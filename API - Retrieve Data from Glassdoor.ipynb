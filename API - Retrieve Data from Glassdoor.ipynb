{
 "cells": [
  {
   "cell_type": "code",
   "execution_count": 39,
   "metadata": {},
   "outputs": [],
   "source": [
    "import requests\n",
    "from bs4 import BeautifulSoup\n",
    "import csv\n",
    "from urllib.request import urlopen"
   ]
  },
  {
   "cell_type": "code",
   "execution_count": 71,
   "metadata": {},
   "outputs": [
    {
     "name": "stdout",
     "output_type": "stream",
     "text": [
      "<Response [200]>\n"
     ]
    }
   ],
   "source": [
    "url = 'https://www.glassdoor.com/Reviews/Citi-Reviews-E8843_P2.htm'\n",
    "response = requests.get(url)\n",
    "print(response)"
   ]
  },
  {
   "cell_type": "code",
   "execution_count": 72,
   "metadata": {},
   "outputs": [],
   "source": [
    "# Parse the HTML content\n",
    "soup = BeautifulSoup(response.content, 'html.parser')"
   ]
  },
  {
   "cell_type": "code",
   "execution_count": 73,
   "metadata": {},
   "outputs": [],
   "source": [
    "# Find all the review divs\n",
    "review_divs = soup.find_all('div', class_='gdReview')"
   ]
  },
  {
   "cell_type": "code",
   "execution_count": 74,
   "metadata": {},
   "outputs": [],
   "source": [
    "# Create a new CSV file and write the header row\n",
    "with open('glassdoorreview.csv', 'w', newline='') as csvfile:\n",
    "    writer = csv.writer(csvfile, delimiter=',')\n",
    "    writer.writerow(['Title', 'Date', 'Rating', 'Pros', 'Cons'])\n",
    "    # Extract the data from each review div\n",
    "    for div in review_divs:\n",
    "        # Extract the review title\n",
    "        title = div.find('a', class_='reviewLink').text\n",
    "        # Extract the review date\n",
    "        date = div.find('span',class_='middle common__EiReviewDetailsStyle__newGrey').text\n",
    "        # Extract the review rating\n",
    "        rating = div.find('span', class_='ratingNumber mr-xsm').text\n",
    "        # Extract the review\n",
    "        pros=div.find('span', {'data-test':'pros'}).text\n",
    "        cons=div.find('span', {'data-test':'cons'}).text\n",
    "        info=[title,date,rating,pros,cons]\n",
    "        writer.writerow(info)\n",
    "        "
   ]
  },
  {
   "cell_type": "code",
   "execution_count": null,
   "metadata": {},
   "outputs": [],
   "source": []
  }
 ],
 "metadata": {
  "kernelspec": {
   "display_name": "Python (learn-env)",
   "language": "python",
   "name": "learn-env"
  },
  "language_info": {
   "codemirror_mode": {
    "name": "ipython",
    "version": 3
   },
   "file_extension": ".py",
   "mimetype": "text/x-python",
   "name": "python",
   "nbconvert_exporter": "python",
   "pygments_lexer": "ipython3",
   "version": "3.8.5"
  }
 },
 "nbformat": 4,
 "nbformat_minor": 4
}
