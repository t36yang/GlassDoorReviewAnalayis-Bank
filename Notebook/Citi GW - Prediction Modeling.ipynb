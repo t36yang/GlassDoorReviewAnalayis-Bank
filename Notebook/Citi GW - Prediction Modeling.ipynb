{
 "cells": [
  {
   "cell_type": "code",
   "execution_count": 1,
   "metadata": {},
   "outputs": [],
   "source": [
    "from collections import defaultdict\n",
    "import numpy as np\n",
    "import pandas as pd\n",
    "from sklearn.model_selection import train_test_split\n",
    "import nltk\n",
    "from nltk.tokenize import regexp_tokenize, word_tokenize, RegexpTokenizer\n",
    "from nltk.corpus import stopwords, wordnet\n",
    "from nltk import pos_tag\n",
    "from nltk.stem import WordNetLemmatizer\n",
    "from sklearn.ensemble import RandomForestClassifier\n",
    "from sklearn.naive_bayes import MultinomialNB\n",
    "from sklearn.metrics import accuracy_score, precision_score, confusion_matrix\n",
    "\n",
    "%load_ext autoreload\n",
    "%autoreload 2\n",
    "\n",
    "import os\n",
    "import sys\n",
    "module_path = os.path.abspath(os.pardir)\n",
    "#print(module_path)\n",
    "if module_path not in sys.path:\n",
    "    sys.path.append(module_path)\n",
    "    \n",
    "from sklearn.metrics import plot_confusion_matrix\n",
    "from sklearn.metrics import classification_report\n",
    "from sklearn.metrics import plot_roc_curve\n",
    "from sklearn.metrics import roc_auc_score"
   ]
  },
  {
   "cell_type": "code",
   "execution_count": 2,
   "metadata": {},
   "outputs": [],
   "source": [
    "import numpy as np\n",
    "import pandas as pd\n",
    "\n",
    "# importing text preprocessing libraries\n",
    "import nltk\n",
    "from nltk.tokenize import word_tokenize\n",
    "from nltk import pos_tag\n",
    "from nltk.corpus import stopwords, wordnet\n",
    "from nltk.stem import WordNetLemmatizer"
   ]
  },
  {
   "cell_type": "code",
   "execution_count": 3,
   "metadata": {},
   "outputs": [],
   "source": [
    "# integrating our preprocessing into a pipeline\n",
    "from sklearn.base import BaseEstimator, TransformerMixin\n",
    "\n",
    "from sklearn.compose import ColumnTransformer\n",
    "\n",
    "from imblearn.over_sampling import SMOTE\n",
    "from imblearn.pipeline import Pipeline "
   ]
  },
  {
   "cell_type": "code",
   "execution_count": 9,
   "metadata": {},
   "outputs": [],
   "source": [
    "#import dataset\n",
    "original_data = pd.read_csv('cleanedreview.csv')\n"
   ]
  },
  {
   "cell_type": "code",
   "execution_count": 12,
   "metadata": {},
   "outputs": [],
   "source": [
    "data=original_data[['Pros','Cons','Rating']].dropna()"
   ]
  },
  {
   "cell_type": "code",
   "execution_count": 13,
   "metadata": {},
   "outputs": [
    {
     "data": {
      "text/plain": [
       "(11203, 3)"
      ]
     },
     "execution_count": 13,
     "metadata": {},
     "output_type": "execute_result"
    }
   ],
   "source": [
    "data.shape"
   ]
  },
  {
   "cell_type": "code",
   "execution_count": 14,
   "metadata": {},
   "outputs": [],
   "source": [
    "#reduce rating classes to two - 1-3 or 4-5\n",
    "data['GroupedRatings']=data['Rating'].apply(lambda x: \"1-3\" if x < 4 else \"4-5\" )"
   ]
  },
  {
   "cell_type": "code",
   "execution_count": 15,
   "metadata": {},
   "outputs": [],
   "source": [
    "#change the class names for easier interpretation\n",
    "data['RatingClass']=data['GroupedRatings'].apply(lambda x: 0 if x == \"1-3\" else 1 )"
   ]
  },
  {
   "cell_type": "code",
   "execution_count": 16,
   "metadata": {},
   "outputs": [],
   "source": [
    "X = data[['Pros','Cons']]\n",
    "y = data['RatingClass']"
   ]
  },
  {
   "cell_type": "code",
   "execution_count": 17,
   "metadata": {},
   "outputs": [
    {
     "data": {
      "text/plain": [
       "(11203, 5)"
      ]
     },
     "execution_count": 17,
     "metadata": {},
     "output_type": "execute_result"
    }
   ],
   "source": [
    "data.shape"
   ]
  },
  {
   "cell_type": "markdown",
   "metadata": {},
   "source": [
    "## Baseline Modeling"
   ]
  },
  {
   "cell_type": "code",
   "execution_count": 230,
   "metadata": {},
   "outputs": [],
   "source": [
    "#import modeling libraries\n",
    "\n",
    "from sklearn.linear_model import LogisticRegression\n",
    "from sklearn.svm import SVC\n",
    "from sklearn.naive_bayes import GaussianNB\n",
    "from sklearn.svm import SVC\n",
    "from sklearn.neighbors import KNeighborsClassifier\n",
    "from xgboost import XGBClassifier\n",
    "from sklearn.ensemble import RandomForestClassifier\n",
    "from sklearn.tree import DecisionTreeClassifier\n",
    "from sklearn.neighbors import KNeighborsClassifier\n",
    "from sklearn import model_selection\n",
    "\n",
    "from sklearn.model_selection import KFold\n",
    "\n",
    "from sklearn.decomposition import NMF\n",
    "from sklearn.manifold import TSNE\n"
   ]
  },
  {
   "cell_type": "code",
   "execution_count": 18,
   "metadata": {},
   "outputs": [],
   "source": [
    "from sklearn.model_selection import train_test_split\n",
    "\n",
    "X_train, X_test, y_train, y_test = train_test_split(X, y, random_state=42, test_size = 0.3)"
   ]
  },
  {
   "cell_type": "code",
   "execution_count": 236,
   "metadata": {},
   "outputs": [],
   "source": [
    "from sklearn.feature_extraction.text import TfidfVectorizer\n",
    "\n",
    "pros=Pipeline([('pro_tfidf', TfidfVectorizer()),('pro_nmf',NMF(n_components = 5))])\n",
    "cons=Pipeline([('con_tfidf', TfidfVectorizer()),('cons_nmf',NMF(n_components = 5))])"
   ]
  },
  {
   "cell_type": "code",
   "execution_count": 237,
   "metadata": {},
   "outputs": [],
   "source": [
    "preprocess = ColumnTransformer([ \n",
    "     (\"prospipe\", pros,'Pros'),\n",
    "     (\"conspipe\", cons,'Cons')])"
   ]
  },
  {
   "cell_type": "code",
   "execution_count": 227,
   "metadata": {},
   "outputs": [],
   "source": [
    "# preprocess = ColumnTransformer(\n",
    "#     [('pro_tfidf', TfidfVectorizer(), 'Pros'),\n",
    "#      ('pro_nmf',NMF(n_components = 5), 'Pros'),\n",
    "#     ('con_tfidf', TfidfVectorizer(), 'Cons'),\n",
    "#     ('con_nmf',NMF(n_components = 5), 'Cons')])"
   ]
  },
  {
   "cell_type": "code",
   "execution_count": 238,
   "metadata": {},
   "outputs": [],
   "source": [
    "X_train_processed=preprocess.fit_transform(X_train)"
   ]
  },
  {
   "cell_type": "code",
   "execution_count": 239,
   "metadata": {},
   "outputs": [
    {
     "name": "stderr",
     "output_type": "stream",
     "text": [
      "/Users/Shen/opt/anaconda3/envs/learn-env/lib/python3.8/site-packages/sklearn/model_selection/_split.py:293: FutureWarning: Setting a random_state has no effect since shuffle is False. This will raise an error in 0.24. You should leave random_state to its default (None), or set shuffle=True.\n",
      "  warnings.warn(\n"
     ]
    }
   ],
   "source": [
    "# Create a list of selected modeling algorithsm\n",
    "models = []\n",
    "models.append(('Logistic Regression', LogisticRegression(solver='liblinear', random_state=7,\n",
    "                                                         class_weight='balanced')))\n",
    "models.append(('Random Forest', RandomForestClassifier(\n",
    "    n_estimators=100, random_state=7)))\n",
    "models.append(('SVM', SVC(gamma='auto', random_state=7)))\n",
    "models.append(('KNN', KNeighborsClassifier()))\n",
    "models.append(('Decision Tree Classifier',\n",
    "               DecisionTreeClassifier(random_state=7)))\n",
    "models.append(('Gaussian NB', GaussianNB()))\n",
    "\n",
    "kfold = model_selection.KFold(n_splits=10, random_state=7)\n"
   ]
  },
  {
   "cell_type": "code",
   "execution_count": 240,
   "metadata": {
    "scrolled": true
   },
   "outputs": [
    {
     "name": "stderr",
     "output_type": "stream",
     "text": [
      "/Users/Shen/opt/anaconda3/envs/learn-env/lib/python3.8/site-packages/sklearn/model_selection/_split.py:293: FutureWarning: Setting a random_state has no effect since shuffle is False. This will raise an error in 0.24. You should leave random_state to its default (None), or set shuffle=True.\n",
      "  warnings.warn(\n",
      "/Users/Shen/opt/anaconda3/envs/learn-env/lib/python3.8/site-packages/sklearn/model_selection/_split.py:293: FutureWarning: Setting a random_state has no effect since shuffle is False. This will raise an error in 0.24. You should leave random_state to its default (None), or set shuffle=True.\n",
      "  warnings.warn(\n",
      "/Users/Shen/opt/anaconda3/envs/learn-env/lib/python3.8/site-packages/sklearn/model_selection/_split.py:293: FutureWarning: Setting a random_state has no effect since shuffle is False. This will raise an error in 0.24. You should leave random_state to its default (None), or set shuffle=True.\n",
      "  warnings.warn(\n",
      "/Users/Shen/opt/anaconda3/envs/learn-env/lib/python3.8/site-packages/sklearn/model_selection/_split.py:293: FutureWarning: Setting a random_state has no effect since shuffle is False. This will raise an error in 0.24. You should leave random_state to its default (None), or set shuffle=True.\n",
      "  warnings.warn(\n",
      "/Users/Shen/opt/anaconda3/envs/learn-env/lib/python3.8/site-packages/sklearn/model_selection/_split.py:293: FutureWarning: Setting a random_state has no effect since shuffle is False. This will raise an error in 0.24. You should leave random_state to its default (None), or set shuffle=True.\n",
      "  warnings.warn(\n",
      "/Users/Shen/opt/anaconda3/envs/learn-env/lib/python3.8/site-packages/sklearn/model_selection/_split.py:293: FutureWarning: Setting a random_state has no effect since shuffle is False. This will raise an error in 0.24. You should leave random_state to its default (None), or set shuffle=True.\n",
      "  warnings.warn(\n"
     ]
    },
    {
     "data": {
      "text/html": [
       "<div>\n",
       "<style scoped>\n",
       "    .dataframe tbody tr th:only-of-type {\n",
       "        vertical-align: middle;\n",
       "    }\n",
       "\n",
       "    .dataframe tbody tr th {\n",
       "        vertical-align: top;\n",
       "    }\n",
       "\n",
       "    .dataframe thead th {\n",
       "        text-align: right;\n",
       "    }\n",
       "</style>\n",
       "<table border=\"1\" class=\"dataframe\">\n",
       "  <thead>\n",
       "    <tr style=\"text-align: right;\">\n",
       "      <th></th>\n",
       "      <th>Algorithm</th>\n",
       "      <th>ROC AUC Mean</th>\n",
       "      <th>ROC AUC STD</th>\n",
       "      <th>Accuracy Mean</th>\n",
       "      <th>Accuracy STD</th>\n",
       "    </tr>\n",
       "  </thead>\n",
       "  <tbody>\n",
       "    <tr>\n",
       "      <th>1</th>\n",
       "      <td>Random Forest</td>\n",
       "      <td>83.81</td>\n",
       "      <td>1.60</td>\n",
       "      <td>74.38</td>\n",
       "      <td>1.55</td>\n",
       "    </tr>\n",
       "    <tr>\n",
       "      <th>4</th>\n",
       "      <td>Decision Tree Classifier</td>\n",
       "      <td>69.51</td>\n",
       "      <td>1.44</td>\n",
       "      <td>69.47</td>\n",
       "      <td>1.48</td>\n",
       "    </tr>\n",
       "    <tr>\n",
       "      <th>0</th>\n",
       "      <td>Logistic Regression</td>\n",
       "      <td>66.74</td>\n",
       "      <td>1.96</td>\n",
       "      <td>62.43</td>\n",
       "      <td>1.78</td>\n",
       "    </tr>\n",
       "    <tr>\n",
       "      <th>3</th>\n",
       "      <td>KNN</td>\n",
       "      <td>66.21</td>\n",
       "      <td>1.56</td>\n",
       "      <td>62.08</td>\n",
       "      <td>1.14</td>\n",
       "    </tr>\n",
       "    <tr>\n",
       "      <th>2</th>\n",
       "      <td>SVM</td>\n",
       "      <td>65.72</td>\n",
       "      <td>1.85</td>\n",
       "      <td>60.61</td>\n",
       "      <td>2.05</td>\n",
       "    </tr>\n",
       "    <tr>\n",
       "      <th>5</th>\n",
       "      <td>Gaussian NB</td>\n",
       "      <td>63.21</td>\n",
       "      <td>2.12</td>\n",
       "      <td>57.61</td>\n",
       "      <td>2.18</td>\n",
       "    </tr>\n",
       "  </tbody>\n",
       "</table>\n",
       "</div>"
      ],
      "text/plain": [
       "                  Algorithm  ROC AUC Mean  ROC AUC STD  Accuracy Mean  \\\n",
       "1             Random Forest         83.81         1.60          74.38   \n",
       "4  Decision Tree Classifier         69.51         1.44          69.47   \n",
       "0       Logistic Regression         66.74         1.96          62.43   \n",
       "3                       KNN         66.21         1.56          62.08   \n",
       "2                       SVM         65.72         1.85          60.61   \n",
       "5               Gaussian NB         63.21         2.12          57.61   \n",
       "\n",
       "   Accuracy STD  \n",
       "1          1.55  \n",
       "4          1.48  \n",
       "0          1.78  \n",
       "3          1.14  \n",
       "2          2.05  \n",
       "5          2.18  "
      ]
     },
     "execution_count": 240,
     "metadata": {},
     "output_type": "execute_result"
    }
   ],
   "source": [
    "acc_results = []\n",
    "auc_results = []\n",
    "names = []\n",
    "#create a table for different scores\n",
    "col = ['Algorithm', 'ROC AUC Mean', 'ROC AUC STD', \n",
    "       'Accuracy Mean', 'Accuracy STD']\n",
    "\n",
    "df_results = pd.DataFrame(columns=col)\n",
    "\n",
    "i = 0\n",
    "\n",
    "# evaluate each model using cross-validation\n",
    "for name, model in models:\n",
    "    kfold = model_selection.KFold(\n",
    "        n_splits=10, random_state=7)  # 10-fold cross-validation\n",
    "    \n",
    "    cv_acc_results = model_selection.cross_val_score(  # accuracy scoring\n",
    "        model, X_train_processed, y_train, cv=kfold, scoring= 'accuracy')\n",
    "\n",
    "    cv_auc_results = model_selection.cross_val_score(  # roc_auc scoring\n",
    "        model, X_train_processed, y_train, cv=kfold, scoring='roc_auc')\n",
    "\n",
    "    acc_results.append(cv_acc_results)\n",
    "    auc_results.append(cv_auc_results)\n",
    "    \n",
    "    names.append(name)\n",
    "    df_results.loc[i] = [name,\n",
    "                         round(cv_auc_results.mean()*100, 2),\n",
    "                         round(cv_auc_results.std()*100, 2),\n",
    "                         round(cv_acc_results.mean()*100, 2),\n",
    "                         round(cv_acc_results.std()*100, 2)\n",
    "                         ]\n",
    "    i += 1\n",
    "df_results=df_results.sort_values(by=['ROC AUC Mean'], ascending=False)"
   ]
  },
  {
   "cell_type": "code",
   "execution_count": 244,
   "metadata": {},
   "outputs": [
    {
     "data": {
      "text/html": [
       "<div>\n",
       "<style scoped>\n",
       "    .dataframe tbody tr th:only-of-type {\n",
       "        vertical-align: middle;\n",
       "    }\n",
       "\n",
       "    .dataframe tbody tr th {\n",
       "        vertical-align: top;\n",
       "    }\n",
       "\n",
       "    .dataframe thead th {\n",
       "        text-align: right;\n",
       "    }\n",
       "</style>\n",
       "<table border=\"1\" class=\"dataframe\">\n",
       "  <thead>\n",
       "    <tr style=\"text-align: right;\">\n",
       "      <th></th>\n",
       "      <th>Algorithm</th>\n",
       "      <th>ROC AUC Mean</th>\n",
       "      <th>ROC AUC STD</th>\n",
       "      <th>Accuracy Mean</th>\n",
       "      <th>Accuracy STD</th>\n",
       "    </tr>\n",
       "  </thead>\n",
       "  <tbody>\n",
       "    <tr>\n",
       "      <th>1</th>\n",
       "      <td>Random Forest</td>\n",
       "      <td>83.81</td>\n",
       "      <td>1.60</td>\n",
       "      <td>74.38</td>\n",
       "      <td>1.55</td>\n",
       "    </tr>\n",
       "    <tr>\n",
       "      <th>4</th>\n",
       "      <td>Decision Tree Classifier</td>\n",
       "      <td>69.51</td>\n",
       "      <td>1.44</td>\n",
       "      <td>69.47</td>\n",
       "      <td>1.48</td>\n",
       "    </tr>\n",
       "    <tr>\n",
       "      <th>0</th>\n",
       "      <td>Logistic Regression</td>\n",
       "      <td>66.74</td>\n",
       "      <td>1.96</td>\n",
       "      <td>62.43</td>\n",
       "      <td>1.78</td>\n",
       "    </tr>\n",
       "    <tr>\n",
       "      <th>3</th>\n",
       "      <td>KNN</td>\n",
       "      <td>66.21</td>\n",
       "      <td>1.56</td>\n",
       "      <td>62.08</td>\n",
       "      <td>1.14</td>\n",
       "    </tr>\n",
       "    <tr>\n",
       "      <th>2</th>\n",
       "      <td>SVM</td>\n",
       "      <td>65.72</td>\n",
       "      <td>1.85</td>\n",
       "      <td>60.61</td>\n",
       "      <td>2.05</td>\n",
       "    </tr>\n",
       "    <tr>\n",
       "      <th>5</th>\n",
       "      <td>Gaussian NB</td>\n",
       "      <td>63.21</td>\n",
       "      <td>2.12</td>\n",
       "      <td>57.61</td>\n",
       "      <td>2.18</td>\n",
       "    </tr>\n",
       "  </tbody>\n",
       "</table>\n",
       "</div>"
      ],
      "text/plain": [
       "                  Algorithm  ROC AUC Mean  ROC AUC STD  Accuracy Mean  \\\n",
       "1             Random Forest         83.81         1.60          74.38   \n",
       "4  Decision Tree Classifier         69.51         1.44          69.47   \n",
       "0       Logistic Regression         66.74         1.96          62.43   \n",
       "3                       KNN         66.21         1.56          62.08   \n",
       "2                       SVM         65.72         1.85          60.61   \n",
       "5               Gaussian NB         63.21         2.12          57.61   \n",
       "\n",
       "   Accuracy STD  \n",
       "1          1.55  \n",
       "4          1.48  \n",
       "0          1.78  \n",
       "3          1.14  \n",
       "2          2.05  \n",
       "5          2.18  "
      ]
     },
     "execution_count": 244,
     "metadata": {},
     "output_type": "execute_result"
    }
   ],
   "source": [
    "df_results=df_results.sort_values(by=['ROC AUC Mean'], ascending=False)\n",
    "df_results"
   ]
  },
  {
   "cell_type": "code",
   "execution_count": 245,
   "metadata": {},
   "outputs": [],
   "source": [
    "df_results.to_csv('modelresults.csv')"
   ]
  },
  {
   "cell_type": "code",
   "execution_count": 246,
   "metadata": {},
   "outputs": [
    {
     "data": {
      "image/png": "[encoded data removed]",
      "text/plain": [
       "<Figure size 1080x504 with 1 Axes>"
      ]
     },
     "metadata": {
      "needs_background": "light"
     },
     "output_type": "display_data"
    }
   ],
   "source": [
    "fig = plt.figure(figsize=(15, 7))\n",
    "fig.suptitle('Algorithm Accuracy Comparison')\n",
    "ax = fig.add_subplot(111)\n",
    "plt.boxplot(acc_results)\n",
    "ax.set_xticklabels(names)\n",
    "plt.show()"
   ]
  },
  {
   "cell_type": "markdown",
   "metadata": {},
   "source": [
    "## Model Tuning - Logistic Regression\n"
   ]
  },
  {
   "cell_type": "code",
   "execution_count": 247,
   "metadata": {
    "scrolled": false
   },
   "outputs": [
    {
     "name": "stdout",
     "output_type": "stream",
     "text": [
      "====================\n",
      "best params: Pipeline(steps=[('preprocess',\n",
      "                 ColumnTransformer(transformers=[('prospipe',\n",
      "                                                  Pipeline(steps=[('pro_tfidf',\n",
      "                                                                   TfidfVectorizer()),\n",
      "                                                                  ('pro_nmf',\n",
      "                                                                   NMF(n_components=5))]),\n",
      "                                                  'Pros'),\n",
      "                                                 ('conspipe',\n",
      "                                                  Pipeline(steps=[('con_tfidf',\n",
      "                                                                   TfidfVectorizer()),\n",
      "                                                                  ('cons_nmf',\n",
      "                                                                   NMF(n_components=5))]),\n",
      "                                                  'Cons')])),\n",
      "                ('lr',\n",
      "                 LogisticRegression(C=7.89999999999999, random_state=42))])\n",
      "best params: {'lr__C': 7.89999999999999}\n",
      "best score: 0.6732135364153315\n",
      "====================\n",
      "              precision    recall  f1-score   support\n",
      "\n",
      "           0       0.62      0.57      0.59      1663\n",
      "           1       0.61      0.65      0.63      1698\n",
      "\n",
      "    accuracy                           0.61      3361\n",
      "   macro avg       0.61      0.61      0.61      3361\n",
      "weighted avg       0.61      0.61      0.61      3361\n",
      "\n",
      "CPU times: user 7min 13s, sys: 5min 58s, total: 13min 11s\n",
      "Wall time: 1min 59s\n"
     ]
    }
   ],
   "source": [
    "%%time\n",
    "from sklearn.model_selection import train_test_split, GridSearchCV,\\\n",
    "cross_val_score, RandomizedSearchCV\n",
    "\n",
    "\n",
    "lr_pipe = Pipeline([('preprocess', preprocess),\n",
    "                ('lr',LogisticRegression(random_state=42))])\n",
    "\n",
    "# Fit the model to the training data\n",
    "\n",
    "param_grid = [{'lr__C': np.arange(5,8, 0.1)}] # hyper-parameter list to fine-tune\n",
    "log_gs = GridSearchCV(estimator = lr_pipe,\n",
    "                      param_grid=param_grid,\n",
    "                      scoring='roc_auc',\n",
    "                      cv=10)\n",
    "\n",
    "log_gs.fit(X_train, y_train)\n",
    "log_opt = log_gs.best_estimator_\n",
    "results = log_gs.cv_results_\n",
    "y_pred = log_gs.predict(X_test)\n",
    "\n",
    "\n",
    "print('='*20)\n",
    "print(\"best params: \" + str(log_gs.best_estimator_))\n",
    "print(\"best params: \" + str(log_gs.best_params_))\n",
    "print('best score:', log_gs.best_score_)\n",
    "print('='*20)\n",
    "print(classification_report(y_test,y_pred))"
   ]
  },
  {
   "cell_type": "code",
   "execution_count": 248,
   "metadata": {
    "scrolled": false
   },
   "outputs": [
    {
     "data": {
      "image/png": "[encoded data removed]",
      "text/plain": [
       "<Figure size 864x864 with 2 Axes>"
      ]
     },
     "metadata": {
      "needs_background": "light"
     },
     "output_type": "display_data"
    }
   ],
   "source": [
    "fig, ax = plt.subplots(figsize=(12,12))\n",
    "plot_confusion_matrix(log_gs, X_test, y_test, ax=ax, cmap=\"cividis\");"
   ]
  },
  {
   "cell_type": "code",
   "execution_count": 249,
   "metadata": {
    "scrolled": true
   },
   "outputs": [
    {
     "name": "stdout",
     "output_type": "stream",
     "text": [
      "Accuracy Score: 0.6126152930675394\n",
      "Precision Score: 0.6093922651933702\n",
      "Recall Score: 0.649587750294464\n",
      "F1 Score: 0.62884834663626\n"
     ]
    }
   ],
   "source": [
    "print(f'Accuracy Score: {accuracy_score(y_test,y_pred)}')\n",
    "print(f'Precision Score: {precision_score(y_test,y_pred,)}')\n",
    "print(f'Recall Score: {recall_score(y_test,y_pred)}')\n",
    "print(f'F1 Score: {f1_score(y_test,y_pred)}')"
   ]
  },
  {
   "cell_type": "markdown",
   "metadata": {},
   "source": [
    "## Model Tuning - Random Forrest"
   ]
  },
  {
   "cell_type": "code",
   "execution_count": 250,
   "metadata": {},
   "outputs": [
    {
     "name": "stderr",
     "output_type": "stream",
     "text": [
      "/Users/Shen/opt/anaconda3/envs/learn-env/lib/python3.8/site-packages/sklearn/model_selection/_search.py:847: FutureWarning: The parameter 'iid' is deprecated in 0.22 and will be removed in 0.24.\n",
      "  warnings.warn(\n"
     ]
    },
    {
     "name": "stdout",
     "output_type": "stream",
     "text": [
      "====================\n",
      "best params: Pipeline(steps=[('preprocess',\n",
      "                 ColumnTransformer(transformers=[('prospipe',\n",
      "                                                  Pipeline(steps=[('pro_tfidf',\n",
      "                                                                   TfidfVectorizer()),\n",
      "                                                                  ('pro_nmf',\n",
      "                                                                   NMF(n_components=5))]),\n",
      "                                                  'Pros'),\n",
      "                                                 ('conspipe',\n",
      "                                                  Pipeline(steps=[('con_tfidf',\n",
      "                                                                   TfidfVectorizer()),\n",
      "                                                                  ('cons_nmf',\n",
      "                                                                   NMF(n_components=5))]),\n",
      "                                                  'Cons')])),\n",
      "                ('rf',\n",
      "                 RandomForestClassifier(criterion='entropy', max_depth=25,\n",
      "                                        min_samples_leaf=10,\n",
      "                                        min_samples_split=15,\n",
      "                                        random_state=42))])\n",
      "best params: {'rf__criterion': 'entropy', 'rf__max_depth': 25, 'rf__min_samples_leaf': 10, 'rf__min_samples_split': 15, 'rf__n_estimators': 100}\n",
      "best score: 0.7683543475113218\n",
      "====================\n",
      "              precision    recall  f1-score   support\n",
      "\n",
      "           0       0.70      0.68      0.69      1663\n",
      "           1       0.70      0.71      0.70      1698\n",
      "\n",
      "    accuracy                           0.70      3361\n",
      "   macro avg       0.70      0.70      0.70      3361\n",
      "weighted avg       0.70      0.70      0.70      3361\n",
      "\n",
      "CPU times: user 3h 9min 13s, sys: 2h 24min 30s, total: 5h 33min 43s\n",
      "Wall time: 1h 29min 20s\n"
     ]
    }
   ],
   "source": [
    "%%time\n",
    "from sklearn.model_selection import train_test_split, GridSearchCV,\\\n",
    "cross_val_score, RandomizedSearchCV\n",
    "\n",
    "rf_pipe = Pipeline([('preprocess', preprocess),\n",
    "                ('rf',RandomForestClassifier(random_state=42))])\n",
    "\n",
    "\n",
    "param_grid = {'rf__n_estimators':[50,70,80,100],\n",
    "        'rf__criterion':['gini','entropy'],\n",
    "        'rf__min_samples_leaf':[10,20,30],\n",
    "        'rf__max_depth':[5,10,15,20,25],\n",
    "        'rf__min_samples_split':[5,8,10,15]}  \n",
    "\n",
    " # hyper-parameter list to fine-tune\n",
    "rf_gs = GridSearchCV(rf_pipe,# setting GridSearchCV                 \n",
    "                      iid=True,\n",
    "                      return_train_score=True,\n",
    "                      param_grid=param_grid,\n",
    "                      scoring='roc_auc',\n",
    "                      cv=10)\n",
    "\n",
    "rf_gs.fit(X_train, y_train)\n",
    "tf_opt = rf_gs.best_estimator_\n",
    "results = rf_gs.cv_results_\n",
    "y_pred = rf_gs.predict(X_test)\n",
    "\n",
    "\n",
    "\n",
    "print('='*20)\n",
    "print(\"best params: \" + str(rf_gs.best_estimator_))\n",
    "print(\"best params: \" + str(rf_gs.best_params_))\n",
    "print('best score:', rf_gs.best_score_)\n",
    "print('='*20)\n",
    "print(classification_report(y_test,y_pred))"
   ]
  },
  {
   "cell_type": "code",
   "execution_count": 251,
   "metadata": {},
   "outputs": [
    {
     "name": "stdout",
     "output_type": "stream",
     "text": [
      "Accuracy Score: 0.6980065456709312\n",
      "Precision Score: 0.6966033390903857\n",
      "Recall Score: 0.7126030624263839\n",
      "F1 Score: 0.7045123726346433\n"
     ]
    }
   ],
   "source": [
    "print(f'Accuracy Score: {accuracy_score(y_test,y_pred)}')\n",
    "print(f'Precision Score: {precision_score(y_test,y_pred,)}')\n",
    "print(f'Recall Score: {recall_score(y_test,y_pred)}')\n",
    "print(f'F1 Score: {f1_score(y_test,y_pred)}')"
   ]
  },
  {
   "cell_type": "code",
   "execution_count": 252,
   "metadata": {},
   "outputs": [
    {
     "data": {
      "text/plain": [
       "<sklearn.metrics._plot.confusion_matrix.ConfusionMatrixDisplay at 0x7fde80146d30>"
      ]
     },
     "execution_count": 252,
     "metadata": {},
     "output_type": "execute_result"
    },
    {
     "data": {
      "image/png": "[encoded data removed]",
      "text/plain": [
       "<Figure size 864x864 with 2 Axes>"
      ]
     },
     "metadata": {
      "needs_background": "light"
     },
     "output_type": "display_data"
    }
   ],
   "source": [
    "fig, ax = plt.subplots(figsize=(12,12))\n",
    "plot_confusion_matrix(rf_gs, X_test, y_test, ax=ax, cmap=\"cividis\")"
   ]
  },
  {
   "cell_type": "code",
   "execution_count": 254,
   "metadata": {},
   "outputs": [],
   "source": [
    "rf_pipe = Pipeline([('preprocess', preprocess),\n",
    "                ('rf',RandomForestClassifier(\n",
    "                    criterion='entropy', max_depth=25,\n",
    "                                        min_samples_leaf=10,\n",
    "                                        min_samples_split=15,\n",
    "                                    random_state=42))])\n",
    "\n",
    "rf_pipe.fit(X_train, y_train)\n",
    "\n",
    "RF_data=rf_pipe['rf'].feature_importances_"
   ]
  },
  {
   "cell_type": "code",
   "execution_count": 255,
   "metadata": {},
   "outputs": [],
   "source": [
    "feature_data=RF_data"
   ]
  },
  {
   "cell_type": "code",
   "execution_count": 256,
   "metadata": {},
   "outputs": [
    {
     "data": {
      "text/plain": [
       "array([0.11566977, 0.067013  , 0.08279239, 0.08070232, 0.10417361,\n",
       "       0.06399422, 0.10927494, 0.06780254, 0.09307067, 0.21550654])"
      ]
     },
     "execution_count": 256,
     "metadata": {},
     "output_type": "execute_result"
    }
   ],
   "source": [
    "feature_data"
   ]
  },
  {
   "cell_type": "code",
   "execution_count": 259,
   "metadata": {},
   "outputs": [],
   "source": [
    "feature_topics = ['Pro-work_life_balance','Pro-learning_opportunities','Pro-benefit_pay', 'Pro-flexible_work_environment', 'Pro-nice_smart_people' ,'Con-work_pressure', 'Con-tight_deadline', 'Con-long_work_hours', 'Con-low_bonus_salary', 'Con-poor_management']"
   ]
  },
  {
   "cell_type": "code",
   "execution_count": 260,
   "metadata": {},
   "outputs": [],
   "source": [
    "feature_importance=zip(feature_topics,feature_data)"
   ]
  },
  {
   "cell_type": "code",
   "execution_count": 262,
   "metadata": {},
   "outputs": [
    {
     "data": {
      "text/plain": [
       "<zip at 0x7fde506084c0>"
      ]
     },
     "execution_count": 262,
     "metadata": {},
     "output_type": "execute_result"
    }
   ],
   "source": [
    "feature_importance"
   ]
  },
  {
   "cell_type": "code",
   "execution_count": 265,
   "metadata": {},
   "outputs": [
    {
     "data": {
      "text/plain": [
       "(array([0, 1, 2, 3, 4, 5, 6, 7, 8, 9]),\n",
       " [Text(0, 0, 'Pro-work_life_balance'),\n",
       "  Text(1, 0, 'Pro-learning_opportunities'),\n",
       "  Text(2, 0, 'Pro-benefit_pay'),\n",
       "  Text(3, 0, 'Pro-flexible_work_environment'),\n",
       "  Text(4, 0, 'Pro-nice_smart_people'),\n",
       "  Text(5, 0, 'Con-work_pressure'),\n",
       "  Text(6, 0, 'Con-tight_deadline'),\n",
       "  Text(7, 0, 'Con-long_work_hours'),\n",
       "  Text(8, 0, 'Con-low_bonus_salary'),\n",
       "  Text(9, 0, 'Con-poor_management')])"
      ]
     },
     "execution_count": 265,
     "metadata": {},
     "output_type": "execute_result"
    },
    {
     "data": {
      "image/png": "[encoded data removed]",
      "text/plain": [
       "<Figure size 432x288 with 1 Axes>"
      ]
     },
     "metadata": {
      "needs_background": "light"
     },
     "output_type": "display_data"
    }
   ],
   "source": [
    "sns.barplot(x=feature_topics,y=feature_data,palette='crest',alpha=.7)\n",
    "plt.xticks(rotation=90)\n",
    "plt.xticks(rotation=90)"
   ]
  },
  {
   "cell_type": "markdown",
   "metadata": {},
   "source": [
    "## Model Tuning - Decision Tree\n"
   ]
  },
  {
   "cell_type": "code",
   "execution_count": 268,
   "metadata": {},
   "outputs": [
    {
     "name": "stdout",
     "output_type": "stream",
     "text": [
      "====================\n",
      "best params: Pipeline(steps=[('preprocess',\n",
      "                 ColumnTransformer(transformers=[('prospipe',\n",
      "                                                  Pipeline(steps=[('pro_tfidf',\n",
      "                                                                   TfidfVectorizer()),\n",
      "                                                                  ('pro_nmf',\n",
      "                                                                   NMF(n_components=5))]),\n",
      "                                                  'Pros'),\n",
      "                                                 ('conspipe',\n",
      "                                                  Pipeline(steps=[('con_tfidf',\n",
      "                                                                   TfidfVectorizer()),\n",
      "                                                                  ('cons_nmf',\n",
      "                                                                   NMF(n_components=5))]),\n",
      "                                                  'Cons')])),\n",
      "                ('dt',\n",
      "                 DecisionTreeClassifier(max_depth=20, min_samples_leaf=50,\n",
      "                                        min_samples_split=70,\n",
      "                                        random_state=42))])\n",
      "best params: {'dt__criterion': 'gini', 'dt__max_depth': 20, 'dt__min_samples_leaf': 50, 'dt__min_samples_split': 70}\n",
      "best score: 0.6338983491485767\n",
      "====================\n",
      "              precision    recall  f1-score   support\n",
      "\n",
      "           0       0.61      0.63      0.62      1663\n",
      "           1       0.63      0.61      0.62      1698\n",
      "\n",
      "    accuracy                           0.62      3361\n",
      "   macro avg       0.62      0.62      0.62      3361\n",
      "weighted avg       0.62      0.62      0.62      3361\n",
      "\n",
      "CPU times: user 8min 43s, sys: 7min 17s, total: 16min 1s\n",
      "Wall time: 2min 30s\n"
     ]
    }
   ],
   "source": [
    "%%time\n",
    "from sklearn.model_selection import train_test_split, GridSearchCV,\\\n",
    "cross_val_score, RandomizedSearchCV\n",
    "\n",
    "dt_clf = Pipeline([('preprocess', preprocess),\n",
    "                ('dt',DecisionTreeClassifier(random_state=42))])\n",
    "\n",
    "\n",
    "param_grid = {'dt__max_depth': [10,20,30],\n",
    "    'dt__min_samples_leaf':[30,50],\n",
    "    'dt__min_samples_split':[50,70,80],\n",
    "    'dt__criterion':['entropy','gini']}  \n",
    "\n",
    " # hyper-parameter list to fine-tune\n",
    "dt_gs = GridSearchCV(dt_clf,# setting GridSearchCV                 \n",
    "                      param_grid=param_grid,cv=10)\n",
    "\n",
    "dt_gs.fit(X_train, y_train)\n",
    "dt_opt = dt_gs.best_estimator_\n",
    "results = dt_gs.cv_results_\n",
    "y_pred = dt_gs.predict(X_test)\n",
    "\n",
    "\n",
    "\n",
    "print('='*20)\n",
    "print(\"best params: \" + str(dt_gs.best_estimator_))\n",
    "print(\"best params: \" + str(dt_gs.best_params_))\n",
    "print('best score:', dt_gs.best_score_)\n",
    "print('='*20)\n",
    "print(classification_report(y_test,y_pred))"
   ]
  },
  {
   "cell_type": "markdown",
   "metadata": {},
   "source": [
    "## Model Tuning - StackingClassifier"
   ]
  },
  {
   "cell_type": "code",
   "execution_count": 269,
   "metadata": {},
   "outputs": [],
   "source": [
    "from sklearn.ensemble import StackingClassifier\n",
    "\n",
    "estimators = [\n",
    "    ('multinb', MultinomialNB(alpha = 0.5,\n",
    "                              fit_prior = False)),\n",
    "    ('xgb', XGBClassifier(random_state = 51,\n",
    "                          gamma = 5,\n",
    "                          learning_rate = 0.2,\n",
    "                          max_depth = 7,\n",
    "                          min_child_weight = 10,\n",
    "                          n_estimators = 200))\n",
    "]"
   ]
  },
  {
   "cell_type": "code",
   "execution_count": 270,
   "metadata": {},
   "outputs": [],
   "source": [
    "stacking = StackingClassifier(estimators)"
   ]
  },
  {
   "cell_type": "code",
   "execution_count": 271,
   "metadata": {},
   "outputs": [],
   "source": [
    "pipe6 = Pipeline([\n",
    "    ('preprocess', preprocess),\n",
    "    (\"ensemble\", stacking)\n",
    "])\n",
    "\n",
    "\n",
    "# pipe_gs = GridSearchCV(pipe6,# setting GridSearchCV                 \n",
    "#                       iid=True,\n",
    "#                       return_train_score=True,\n",
    "#                       scoring='roc_auc',\n",
    "#                       cv=10)"
   ]
  },
  {
   "cell_type": "code",
   "execution_count": 272,
   "metadata": {},
   "outputs": [
    {
     "name": "stdout",
     "output_type": "stream",
     "text": [
      "              precision    recall  f1-score   support\n",
      "\n",
      "           0       0.68      0.66      0.67      1663\n",
      "           1       0.68      0.69      0.68      1698\n",
      "\n",
      "    accuracy                           0.68      3361\n",
      "   macro avg       0.68      0.68      0.68      3361\n",
      "weighted avg       0.68      0.68      0.68      3361\n",
      "\n"
     ]
    }
   ],
   "source": [
    "pipe6.fit(X_train, y_train)\n",
    "#pip_opt = pipe_gs.best_estimator_\n",
    "#results = pipe6.cv_results_\n",
    "y_pred = pipe6.predict(X_test)\n",
    "\n",
    "print(classification_report(y_test,y_pred))"
   ]
  },
  {
   "cell_type": "code",
   "execution_count": 277,
   "metadata": {},
   "outputs": [],
   "source": [
    "from sklearn.ensemble import StackingClassifier\n",
    "\n",
    "estimators2 = [\n",
    "    ('rf',RandomForestClassifier(max_depth=25, min_samples_leaf=10,\n",
    "                                        min_samples_split=5,\n",
    "                                        random_state=42)),\n",
    "    ('lr', LogisticRegression(random_state=42,C=5.23))\n",
    "]"
   ]
  },
  {
   "cell_type": "code",
   "execution_count": 278,
   "metadata": {},
   "outputs": [],
   "source": [
    "stacking2 = StackingClassifier(estimators2)"
   ]
  },
  {
   "cell_type": "code",
   "execution_count": 279,
   "metadata": {},
   "outputs": [],
   "source": [
    "pipe7 = Pipeline([\n",
    "    ('preprocess', preprocess),\n",
    "    (\"ensemble\", stacking2)\n",
    "])\n"
   ]
  },
  {
   "cell_type": "code",
   "execution_count": 280,
   "metadata": {},
   "outputs": [
    {
     "data": {
      "text/plain": [
       "Pipeline(steps=[('preprocess',\n",
       "                 ColumnTransformer(transformers=[('prospipe',\n",
       "                                                  Pipeline(steps=[('pro_tfidf',\n",
       "                                                                   TfidfVectorizer()),\n",
       "                                                                  ('pro_nmf',\n",
       "                                                                   NMF(n_components=5))]),\n",
       "                                                  'Pros'),\n",
       "                                                 ('conspipe',\n",
       "                                                  Pipeline(steps=[('con_tfidf',\n",
       "                                                                   TfidfVectorizer()),\n",
       "                                                                  ('cons_nmf',\n",
       "                                                                   NMF(n_components=5))]),\n",
       "                                                  'Cons')])),\n",
       "                ('ensemble',\n",
       "                 StackingClassifier(estimators=[('rf',\n",
       "                                                 RandomForestClassifier(max_depth=25,\n",
       "                                                                        min_samples_leaf=10,\n",
       "                                                                        min_samples_split=5,\n",
       "                                                                        random_state=42)),\n",
       "                                                ('lr',\n",
       "                                                 LogisticRegression(C=5.23,\n",
       "                                                                    random_state=42))]))])"
      ]
     },
     "execution_count": 280,
     "metadata": {},
     "output_type": "execute_result"
    }
   ],
   "source": [
    "pipe7.fit(X_train, y_train)"
   ]
  },
  {
   "cell_type": "code",
   "execution_count": 281,
   "metadata": {},
   "outputs": [
    {
     "name": "stdout",
     "output_type": "stream",
     "text": [
      "              precision    recall  f1-score   support\n",
      "\n",
      "           0       0.68      0.66      0.67      1663\n",
      "           1       0.67      0.69      0.68      1698\n",
      "\n",
      "    accuracy                           0.67      3361\n",
      "   macro avg       0.67      0.67      0.67      3361\n",
      "weighted avg       0.67      0.67      0.67      3361\n",
      "\n"
     ]
    }
   ],
   "source": [
    "y_pred = pipe6.predict(X_test)\n",
    "\n",
    "print(classification_report(y_test,y_pred))"
   ]
  },
  {
   "cell_type": "code",
   "execution_count": null,
   "metadata": {},
   "outputs": [],
   "source": []
  }
 ],
 "metadata": {
  "kernelspec": {
   "display_name": "Python (learn-env)",
   "language": "python",
   "name": "learn-env"
  },
  "language_info": {
   "codemirror_mode": {
    "name": "ipython",
    "version": 3
   },
   "file_extension": ".py",
   "mimetype": "text/x-python",
   "name": "python",
   "nbconvert_exporter": "python",
   "pygments_lexer": "ipython3",
   "version": "3.8.5"
  }
 },
 "nbformat": 4,
 "nbformat_minor": 4
}
