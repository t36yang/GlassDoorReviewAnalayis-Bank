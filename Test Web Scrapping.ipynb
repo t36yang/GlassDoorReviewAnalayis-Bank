{
 "cells": [
  {
   "cell_type": "code",
   "execution_count": 3,
   "metadata": {},
   "outputs": [],
   "source": [
    "import requests\n",
    "from bs4 import BeautifulSoup\n",
    "import csv\n",
    "from urllib.request import urlopen"
   ]
  },
  {
   "cell_type": "code",
   "execution_count": 13,
   "metadata": {
    "scrolled": true
   },
   "outputs": [
    {
     "ename": "UnsupportedOperation",
     "evalue": "not writable",
     "output_type": "error",
     "traceback": [
      "\u001b[0;31m---------------------------------------------------------------------------\u001b[0m",
      "\u001b[0;31mUnsupportedOperation\u001b[0m                      Traceback (most recent call last)",
      "\u001b[0;32m<ipython-input-13-0df5b03d81a8>\u001b[0m in \u001b[0;36m<module>\u001b[0;34m\u001b[0m\n\u001b[1;32m     12\u001b[0m     \u001b[0;32mwith\u001b[0m \u001b[0mopen\u001b[0m\u001b[0;34m(\u001b[0m\u001b[0;34m'glassdoorreviewall.csv'\u001b[0m\u001b[0;34m,\u001b[0m \u001b[0;34m'r'\u001b[0m\u001b[0;34m,\u001b[0m \u001b[0mnewline\u001b[0m\u001b[0;34m=\u001b[0m\u001b[0;34m''\u001b[0m\u001b[0;34m)\u001b[0m \u001b[0;32mas\u001b[0m \u001b[0mcsvfile\u001b[0m\u001b[0;34m:\u001b[0m\u001b[0;34m\u001b[0m\u001b[0;34m\u001b[0m\u001b[0m\n\u001b[1;32m     13\u001b[0m         \u001b[0mwriter\u001b[0m \u001b[0;34m=\u001b[0m \u001b[0mcsv\u001b[0m\u001b[0;34m.\u001b[0m\u001b[0mwriter\u001b[0m\u001b[0;34m(\u001b[0m\u001b[0mcsvfile\u001b[0m\u001b[0;34m,\u001b[0m \u001b[0mdelimiter\u001b[0m\u001b[0;34m=\u001b[0m\u001b[0;34m','\u001b[0m\u001b[0;34m)\u001b[0m\u001b[0;34m\u001b[0m\u001b[0;34m\u001b[0m\u001b[0m\n\u001b[0;32m---> 14\u001b[0;31m         \u001b[0mwriter\u001b[0m\u001b[0;34m.\u001b[0m\u001b[0mwriterow\u001b[0m\u001b[0;34m(\u001b[0m\u001b[0;34m[\u001b[0m\u001b[0;34m'Title'\u001b[0m\u001b[0;34m,\u001b[0m \u001b[0;34m'Date'\u001b[0m\u001b[0;34m,\u001b[0m \u001b[0;34m'Rating'\u001b[0m\u001b[0;34m,\u001b[0m \u001b[0;34m'Pros'\u001b[0m\u001b[0;34m,\u001b[0m \u001b[0;34m'Cons'\u001b[0m\u001b[0;34m]\u001b[0m\u001b[0;34m)\u001b[0m\u001b[0;34m\u001b[0m\u001b[0;34m\u001b[0m\u001b[0m\n\u001b[0m\u001b[1;32m     15\u001b[0m             \u001b[0;31m# Extract the data from each review div\u001b[0m\u001b[0;34m\u001b[0m\u001b[0;34m\u001b[0m\u001b[0;34m\u001b[0m\u001b[0m\n\u001b[1;32m     16\u001b[0m         \u001b[0;32mfor\u001b[0m \u001b[0mdiv\u001b[0m \u001b[0;32min\u001b[0m \u001b[0mreview_divs\u001b[0m\u001b[0;34m:\u001b[0m\u001b[0;34m\u001b[0m\u001b[0;34m\u001b[0m\u001b[0m\n",
      "\u001b[0;31mUnsupportedOperation\u001b[0m: not writable"
     ]
    }
   ],
   "source": [
    "# Make the GET request to the Glassdoor page\n",
    "\n",
    "pages=2,3\n",
    "\n",
    "for page in list(pages):\n",
    "    \n",
    "    url = f'https://www.glassdoor.com/Reviews/Citi-Reviews-E8843_P{page}.htm'\n",
    "    response = requests.get(url)\n",
    "    soup = BeautifulSoup(response.content, 'html.parser')\n",
    "    review_divs = soup.find_all('div', class_='gdReview')\n",
    "    \n",
    "    with open('glassdoorreviewall.csv', 'r', newline='') as csvfile:\n",
    "        writer = csv.writer(csvfile, delimiter=',')\n",
    "        writer.writerow(['Title', 'Date', 'Rating', 'Pros', 'Cons'])\n",
    "            # Extract the data from each review div\n",
    "        for div in review_divs:\n",
    "                # Extract the review title\n",
    "            title = div.find('a', class_='reviewLink').text\n",
    "                # Extract the review date\n",
    "            date = div.find('span',class_='middle common__EiReviewDetailsStyle__newGrey').text\n",
    "                # Extract the review rating\n",
    "            rating = div.find('span', class_='ratingNumber mr-xsm').text\n",
    "                # Extract the review\n",
    "            pros=div.find('span', {'data-test':'pros'}).text\n",
    "            cons=div.find('span', {'data-test':'cons'}).text\n",
    "            info=[title,date,rating,pros,cons]\n",
    "            writer.writerow(info)"
   ]
  },
  {
   "cell_type": "code",
   "execution_count": 53,
   "metadata": {},
   "outputs": [
    {
     "name": "stdout",
     "output_type": "stream",
     "text": [
      "<Response [200]>\n"
     ]
    }
   ],
   "source": [
    "# url = 'https://www.glassdoor.com/Reviews/Citi-Reviews-E8843{page}.htm'\n",
    "# response = requests.get(url)\n",
    "# print(response)"
   ]
  },
  {
   "cell_type": "code",
   "execution_count": 54,
   "metadata": {},
   "outputs": [],
   "source": [
    "# #Parse the HTML content\n",
    "# soup = BeautifulSoup(response.content, 'html.parser')"
   ]
  },
  {
   "cell_type": "code",
   "execution_count": 55,
   "metadata": {},
   "outputs": [],
   "source": [
    "# #Find all the review divs\n",
    "# review_divs = soup.find_all('div', class_='gdReview')"
   ]
  },
  {
   "cell_type": "code",
   "execution_count": 56,
   "metadata": {},
   "outputs": [],
   "source": [
    "# # Create a new CSV file and write the header row\n",
    "# with open('glassdoorreviews.csv', 'w', newline='') as csvfile:\n",
    "#     writer = csv.writer(csvfile, delimiter=',')\n",
    "#     writer.writerow(['Title', 'Date', 'Rating', 'Pros', 'Cons'])\n",
    "#     # Extract the data from each review div\n",
    "#     for div in review_divs:\n",
    "#         # Extract the review title\n",
    "#         title = div.find('a', class_='reviewLink').text.strip()\n",
    "#         # Extract the review date\n",
    "#         date = div.find('span',class_='middle common__EiReviewDetailsStyle__newGrey').text.strip()\n",
    "#         # Extract the review rating\n",
    "#         rating = div.find('span', class_='ratingNumber mr-xsm').text.strip()\n",
    "#         # Extract the review\n",
    "#         pros=div.find('span', {'data-test':'pros'}).text.strip()\n",
    "#         cons=div.find('span', {'data-test':'cons'}).text.strip()\n",
    "#         info=[title,date,rating,pros,cons]\n",
    "#         writer.writerow(info)\n",
    "        "
   ]
  },
  {
   "cell_type": "code",
   "execution_count": null,
   "metadata": {},
   "outputs": [],
   "source": []
  }
 ],
 "metadata": {
  "kernelspec": {
   "display_name": "Python (learn-env)",
   "language": "python",
   "name": "learn-env"
  },
  "language_info": {
   "codemirror_mode": {
    "name": "ipython",
    "version": 3
   },
   "file_extension": ".py",
   "mimetype": "text/x-python",
   "name": "python",
   "nbconvert_exporter": "python",
   "pygments_lexer": "ipython3",
   "version": "3.8.5"
  }
 },
 "nbformat": 4,
 "nbformat_minor": 4
}
